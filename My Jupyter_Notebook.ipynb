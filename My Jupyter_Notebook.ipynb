{
  "metadata": {
    "kernelspec": {
      "name": "python",
      "display_name": "Pyolite",
      "language": "python"
    },
    "language_info": {
      "codemirror_mode": {
        "name": "python",
        "version": 3
      },
      "file_extension": ".py",
      "mimetype": "text/x-python",
      "name": "python",
      "nbconvert_exporter": "python",
      "pygments_lexer": "ipython3",
      "version": "3.8"
    }
  },
  "nbformat_minor": 4,
  "nbformat": 4,
  "cells": [
    {
      "cell_type": "markdown",
      "source": "# My Jupyter Notebook on IBM Watson Studio",
      "metadata": {
        "tags": []
      }
    },
    {
      "cell_type": "markdown",
      "source": "**Franz Kollipost**",
      "metadata": {}
    },
    {
      "cell_type": "markdown",
      "source": "Data Scientist for Environmental Apllications",
      "metadata": {}
    },
    {
      "cell_type": "markdown",
      "source": "*I am interested in data science because I am looking do develop my career further into the direction of expertise in computer applications and data analysis. I would like to apply my new skills to environmental topics.*",
      "metadata": {}
    },
    {
      "cell_type": "markdown",
      "source": "### The code in cell 5 is supposed to print: Hello, fellow scholars!",
      "metadata": {}
    },
    {
      "cell_type": "code",
      "source": "print(\"Hello, fellow scholars!\")",
      "metadata": {
        "trusted": true
      },
      "execution_count": 1,
      "outputs": [
        {
          "name": "stdout",
          "text": "Hello, fellow scholars!\n",
          "output_type": "stream"
        }
      ]
    },
    {
      "cell_type": "markdown",
      "source": "this cells contains:\n1. a numbered list\n2. ~~a strikethrough~~\n3. and `print(\"code/syntax highlighting\")`",
      "metadata": {}
    },
    {
      "cell_type": "code",
      "source": "",
      "metadata": {},
      "execution_count": null,
      "outputs": []
    }
  ]
}